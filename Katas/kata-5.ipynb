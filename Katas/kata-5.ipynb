{
 "cells": [
  {
   "cell_type": "markdown",
   "metadata": {},
   "source": [
    "# Distancia Planetas"
   ]
  },
  {
   "cell_type": "code",
   "execution_count": 2,
   "metadata": {},
   "outputs": [
    {
     "name": "stdout",
     "output_type": "stream",
     "text": [
      "628949330\n",
      "390577533.93\n"
     ]
    }
   ],
   "source": [
    "earth = 149597870\n",
    "jupyter = 778547200\n",
    "\n",
    "distance = abs(earth - jupyter)\n",
    "distanceMiles = distance * 0.621\n",
    "print(distance)\n",
    "print(distanceMiles)"
   ]
  },
  {
   "cell_type": "markdown",
   "metadata": {},
   "source": [
    "# Distancia al Sol"
   ]
  },
  {
   "cell_type": "code",
   "execution_count": 3,
   "metadata": {},
   "outputs": [
    {
     "name": "stdout",
     "output_type": "stream",
     "text": [
      "5\n",
      "3.105\n"
     ]
    }
   ],
   "source": [
    "planeta1 = input('Ingresar distancia primer planeta')\n",
    "planeta2 = input('Ingresar distancia segundo planeta')\n",
    "\n",
    "distance = abs(int(planeta1) - int(planeta2))\n",
    "distanceMiles = distance * 0.621\n",
    "print(distance)\n",
    "print(distanceMiles)"
   ]
  }
 ],
 "metadata": {
  "interpreter": {
   "hash": "429e5da8d5ae84f9eccc0db603195144408e5bf34f6f99796e697cd1c2a92f47"
  },
  "kernelspec": {
   "display_name": "Python 3.10.2 64-bit",
   "language": "python",
   "name": "python3"
  },
  "language_info": {
   "codemirror_mode": {
    "name": "ipython",
    "version": 3
   },
   "file_extension": ".py",
   "mimetype": "text/x-python",
   "name": "python",
   "nbconvert_exporter": "python",
   "pygments_lexer": "ipython3",
   "version": "3.10.2"
  },
  "orig_nbformat": 4
 },
 "nbformat": 4,
 "nbformat_minor": 2
}

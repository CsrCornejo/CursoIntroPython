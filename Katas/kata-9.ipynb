{
 "cells": [
  {
   "cell_type": "markdown",
   "metadata": {},
   "source": [
    "# Informe Combustible"
   ]
  },
  {
   "cell_type": "code",
   "execution_count": 9,
   "metadata": {},
   "outputs": [
    {
     "name": "stdout",
     "output_type": "stream",
     "text": [
      "Informe:\n",
      "    Promedio: 48.0\n",
      "    Tanque 1: 12\n",
      "    Tanque 2: 32\n",
      "    Tanque 3: 12\n",
      "    \n"
     ]
    }
   ],
   "source": [
    "def informe(tanque1, tanque2, tanque3):\n",
    "    promedio = tanque1 + tanque2 + tanque3 / 3\n",
    "    return f\"\"\"Informe:\n",
    "    Promedio: {promedio}\n",
    "    Tanque 1: {tanque1}\n",
    "    Tanque 2: {tanque2}\n",
    "    Tanque 3: {tanque3}\n",
    "    \"\"\"\n",
    "\n",
    "print(informe(12, 32, 12))"
   ]
  },
  {
   "cell_type": "code",
   "execution_count": 8,
   "metadata": {},
   "outputs": [
    {
     "data": {
      "text/plain": [
       "12.0"
      ]
     },
     "execution_count": 8,
     "metadata": {},
     "output_type": "execute_result"
    }
   ],
   "source": [
    "def promedio(values):\n",
    "    total = 0\n",
    "    for val in values:\n",
    "        total += val\n",
    "    return total / len(values)\n",
    "\n",
    "promedio([14, 12, 10])"
   ]
  },
  {
   "cell_type": "code",
   "execution_count": 11,
   "metadata": {},
   "outputs": [
    {
     "name": "stdout",
     "output_type": "stream",
     "text": [
      "Informe:\n",
      "    Promedio: 18.666666666666668\n",
      "    Tanque 1: 12\n",
      "    Tanque 2: 32\n",
      "    Tanque 3: 12\n",
      "    \n"
     ]
    }
   ],
   "source": [
    "def informe(tanque1, tanque2, tanque3):\n",
    "    avg = promedio([tanque1, tanque2, tanque3])\n",
    "    return f\"\"\"Informe:\n",
    "    Promedio: {avg}\n",
    "    Tanque 1: {tanque1}\n",
    "    Tanque 2: {tanque2}\n",
    "    Tanque 3: {tanque3}\n",
    "    \"\"\"\n",
    "print(informe(12, 32, 12))"
   ]
  },
  {
   "cell_type": "markdown",
   "metadata": {},
   "source": [
    "# Informe Cohete"
   ]
  },
  {
   "cell_type": "code",
   "execution_count": 12,
   "metadata": {},
   "outputs": [
    {
     "name": "stdout",
     "output_type": "stream",
     "text": [
      "Informe Luna\n",
      "    Tiempo: 63\n",
      "    Combustible: 500\n",
      "    \n"
     ]
    }
   ],
   "source": [
    "def informe(tiempo_prelanzamiento, tiempo_vuelo, destino, tanque_externo, tanque_interno):\n",
    "    return f\"\"\"Informe {destino}\n",
    "    Tiempo: {tiempo_prelanzamiento + tiempo_vuelo}\n",
    "    Combustible: {tanque_externo + tanque_interno}\n",
    "    \"\"\"\n",
    "\n",
    "print(informe(12, 51, \"Luna\", 200, 300))"
   ]
  },
  {
   "cell_type": "code",
   "execution_count": 14,
   "metadata": {},
   "outputs": [
    {
     "name": "stdout",
     "output_type": "stream",
     "text": [
      "Informe Luna\n",
      "    Tiempo: 63\n",
      "    Combustible: 500\n",
      "    \n"
     ]
    }
   ],
   "source": [
    "def informe(destino, *tiempos, **combustible):\n",
    "    return f\"\"\"Informe {destino}\n",
    "    Tiempo: {sum(tiempos)}\n",
    "    Combustible: {sum(combustible.values())}\n",
    "    \"\"\"\n",
    "\n",
    "print(informe(\"Luna\", 12, 51, tanque1 = 200, tanque2 = 300))"
   ]
  },
  {
   "cell_type": "code",
   "execution_count": 20,
   "metadata": {},
   "outputs": [
    {
     "name": "stdout",
     "output_type": "stream",
     "text": [
      "Informe Luna\n",
      "Tiempo: 63\n",
      "Combustible: 500\n",
      "Tanque: tanque1, con 200 litros\n",
      "Tanque: tanque2, con 300 litros\n",
      "\n"
     ]
    }
   ],
   "source": [
    "def informe(destino, *tiempos, **combustible):\n",
    "    informe =  f\"\"\"Informe {destino}\n",
    "Tiempo: {sum(tiempos)}\n",
    "Combustible: {sum(combustible.values())}\n",
    "\"\"\"\n",
    "    for nombre, valor in combustible.items():\n",
    "        informe += f\"\"\"Tanque: {nombre}, con {valor} litros\\n\"\"\"\n",
    "    return informe\n",
    "\n",
    "print(informe(\"Luna\", 12, 51, tanque1 = 200, tanque2 = 300))"
   ]
  }
 ],
 "metadata": {
  "interpreter": {
   "hash": "429e5da8d5ae84f9eccc0db603195144408e5bf34f6f99796e697cd1c2a92f47"
  },
  "kernelspec": {
   "display_name": "Python 3.10.2 64-bit",
   "language": "python",
   "name": "python3"
  },
  "language_info": {
   "codemirror_mode": {
    "name": "ipython",
    "version": 3
   },
   "file_extension": ".py",
   "mimetype": "text/x-python",
   "name": "python",
   "nbconvert_exporter": "python",
   "pygments_lexer": "ipython3",
   "version": "3.10.2"
  },
  "orig_nbformat": 4
 },
 "nbformat": 4,
 "nbformat_minor": 2
}

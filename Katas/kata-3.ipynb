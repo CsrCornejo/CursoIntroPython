{
 "cells": [
  {
   "cell_type": "markdown",
   "metadata": {},
   "source": [
    "# Advertencia de Asteroide (1)"
   ]
  },
  {
   "cell_type": "code",
   "execution_count": 3,
   "metadata": {},
   "outputs": [
    {
     "name": "stdout",
     "output_type": "stream",
     "text": [
      "Advertencia! Asteroide a 49\n"
     ]
    }
   ],
   "source": [
    "limite_velocidad = 25\n",
    "velocidad_asteroide = 49\n",
    "\n",
    "if velocidad_asteroide > limite_velocidad:\n",
    "    print('Advertencia! Asteroide a ' + str(velocidad_asteroide))\n",
    "else:\n",
    "    print('No hay peligro de Asteroide')"
   ]
  },
  {
   "cell_type": "markdown",
   "metadata": {},
   "source": [
    "# Advertencia de Estela (2)"
   ]
  },
  {
   "cell_type": "code",
   "execution_count": 4,
   "metadata": {},
   "outputs": [
    {
     "name": "stdout",
     "output_type": "stream",
     "text": [
      "No hay estelas de luz\n"
     ]
    }
   ],
   "source": [
    "limite_velocidad = 20\n",
    "velocidad_asteroide = 19\n",
    "\n",
    "if velocidad_asteroide > limite_velocidad:\n",
    "    print('Hay una Estela de luz!')\n",
    "elif velocidad_asteroide == limite_velocidad:\n",
    "    print('Hay una Estela de luz!')\n",
    "else:\n",
    "    print('No hay estelas de luz')"
   ]
  },
  {
   "cell_type": "markdown",
   "metadata": {},
   "source": [
    "# Sistema de Advertencia (3)"
   ]
  },
  {
   "cell_type": "code",
   "execution_count": 11,
   "metadata": {},
   "outputs": [
    {
     "name": "stdout",
     "output_type": "stream",
     "text": [
      "El asteroide casi es un peligro o podria crear estela!\n"
     ]
    }
   ],
   "source": [
    "limite_velocidad_peligro = 25\n",
    "limite_tamano_peligro = 25\n",
    "limite_velocidad_estela = 20\n",
    "\n",
    "velocidad_asteroide = 18\n",
    "tamano_asteroide = 25\n",
    "\n",
    "if velocidad_asteroide > limite_velocidad_peligro and tamano_asteroide > limite_tamano_peligro:\n",
    "    print('Advertencia! Asteroide a ' + str(velocidad_asteroide) + ' con tamano de ' + str(tamano_asteroide))\n",
    "elif velocidad_asteroide > limite_velocidad_estela:\n",
    "    print('Hay una Estela de luz!')\n",
    "elif tamano_asteroide == limite_tamano_peligro or limite_velocidad == limite_velocidad_estela:\n",
    "    print('El asteroide casi es un peligro o podria crear estela!')\n",
    "else:\n",
    "    print('No hay peligro ni estela de luz')"
   ]
  }
 ],
 "metadata": {
  "interpreter": {
   "hash": "429e5da8d5ae84f9eccc0db603195144408e5bf34f6f99796e697cd1c2a92f47"
  },
  "kernelspec": {
   "display_name": "Python 3.10.2 64-bit",
   "language": "python",
   "name": "python3"
  },
  "language_info": {
   "codemirror_mode": {
    "name": "ipython",
    "version": 3
   },
   "file_extension": ".py",
   "mimetype": "text/x-python",
   "name": "python",
   "nbconvert_exporter": "python",
   "pygments_lexer": "ipython3",
   "version": "3.10.2"
  },
  "orig_nbformat": 4
 },
 "nbformat": 4,
 "nbformat_minor": 2
}

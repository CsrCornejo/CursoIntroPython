{
 "cells": [
  {
   "cell_type": "markdown",
   "metadata": {},
   "source": [
    "# Transformar Cadenas"
   ]
  },
  {
   "cell_type": "code",
   "execution_count": 6,
   "metadata": {},
   "outputs": [
    {
     "name": "stdout",
     "output_type": "stream",
     "text": [
      " \n",
      "On average, the Moon moves 4cm away from the Earth every year\n",
      " The highest daylight temperature of the Moon is 127 C\n",
      " \n",
      "On average, the Moon moves 4cm away from the Earth every year\n",
      " The highest daylight temperature of the Moon is 127 Celsius\n"
     ]
    }
   ],
   "source": [
    "text = \"\"\"Interesting facts about the Moon. The Moon is Earth's only satellite. There are several interesting facts about the Moon and how it affects life here on Earth. \n",
    "On average, the Moon moves 4cm away from the Earth every year. This yearly drift is not significant enough to cause immediate effects on Earth. The highest daylight temperature of the Moon is 127 C.\"\"\"\n",
    "\n",
    "splitted_text = text.split('.')\n",
    "\n",
    "palabras_clave = ['average', 'temperature', 'distance']\n",
    "\n",
    "for fact in splitted_text:\n",
    "    for palabra in palabras_clave:\n",
    "        if palabra in fact:\n",
    "            print(fact)\n",
    "            break\n",
    "\n",
    "for fact in splitted_text:\n",
    "    for palabra in palabras_clave:\n",
    "        if palabra in fact:\n",
    "            print(fact.replace('C', 'Celsius'))\n",
    "            break"
   ]
  },
  {
   "cell_type": "markdown",
   "metadata": {},
   "source": [
    "# Formateando Cadenas"
   ]
  },
  {
   "cell_type": "code",
   "execution_count": 34,
   "metadata": {},
   "outputs": [
    {
     "name": "stdout",
     "output_type": "stream",
     "text": [
      "Gravity Facts about Moon\n",
      "-----------------------\n",
      "Planet Name: Earth \n",
      "Gravity on Moon: 1.6199999999999999 m/s2\n",
      "\n",
      "Gravity Facts about Moon\n",
      "-----------------------\n",
      "Planet Name: Earth \n",
      "Gravity on Moon: 1.6199999999999999 m/s2\n",
      "\n",
      "Gravity Facts about Marte\n",
      "--------------------\n",
      "Planet Name: Ganimedes\n",
      "Gravity on Marte: 1.4300000000000002 m/s2\n",
      "\n"
     ]
    }
   ],
   "source": [
    "name = \"Moon\"\n",
    "gravity = 0.00162 # in kms\n",
    "planet = \"Earth\"\n",
    "\n",
    "title = f'Gravity Facts about {name}'\n",
    "information = f'Planet Name: {planet} \\nGravity on {name}: {gravity * 1000} m/s2'\n",
    "delimiter = '-----------------------'\n",
    "\n",
    "template = f'{title}\\n{delimiter}\\n{information}\\n'\n",
    "print(template)\n",
    "\n",
    "name = \"Marte\"\n",
    "gravity = 0.00143 # in kms\n",
    "planet = \"Ganimedes\"\n",
    "\n",
    "template = f'{title}\\n{delimiter}\\n{information}'\n",
    "print(template)\n",
    "\n",
    "new_template = \"\"\"\n",
    "Gravity Facts about {name}\n",
    "--------------------\n",
    "Planet Name: {planet}\n",
    "Gravity on {name}: {gravity} m/s2\n",
    "\"\"\"\n",
    "print(new_template.format(name = name.title(), planet = planet, gravity = gravity * 1000 ))"
   ]
  }
 ],
 "metadata": {
  "interpreter": {
   "hash": "429e5da8d5ae84f9eccc0db603195144408e5bf34f6f99796e697cd1c2a92f47"
  },
  "kernelspec": {
   "display_name": "Python 3.10.2 64-bit",
   "language": "python",
   "name": "python3"
  },
  "language_info": {
   "codemirror_mode": {
    "name": "ipython",
    "version": 3
   },
   "file_extension": ".py",
   "mimetype": "text/x-python",
   "name": "python",
   "nbconvert_exporter": "python",
   "pygments_lexer": "ipython3",
   "version": "3.10.2"
  },
  "orig_nbformat": 4
 },
 "nbformat": 4,
 "nbformat_minor": 2
}

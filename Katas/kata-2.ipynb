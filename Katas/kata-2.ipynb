{
 "cells": [
  {
   "cell_type": "markdown",
   "metadata": {},
   "source": [
    "# Usando el Entorno Virtual\n",
    "\n",
    "![](../images/venv-folder.png)\n",
    "![](../images/venv-activate.png)\n",
    "\n",
    "# Instalando un paquete y verificando la lista\n",
    "\n",
    "![](../images/venv-install.png)\n",
    "\n",
    "# Desactivando el entorno virtual\n",
    "\n",
    "![](../images/venv-deactivate.png)"
   ]
  }
 ],
 "metadata": {
  "language_info": {
   "name": "python"
  },
  "orig_nbformat": 4
 },
 "nbformat": 4,
 "nbformat_minor": 2
}
